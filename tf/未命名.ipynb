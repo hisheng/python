{
 "cells": [
  {
   "cell_type": "code",
   "execution_count": 4,
   "id": "11e52205-99dd-4619-b0c6-b4975fb249c5",
   "metadata": {},
   "outputs": [
    {
     "name": "stdout",
     "output_type": "stream",
     "text": [
      "uint8\n"
     ]
    },
    {
     "data": {
      "text/plain": [
       "array([0, 1, 2], dtype=uint8)"
      ]
     },
     "execution_count": 4,
     "metadata": {},
     "output_type": "execute_result"
    }
   ],
   "source": [
    "import numpy as np\n",
    "import PIL.Image\n",
    "\n",
    "label_png = 'label_imgs/yJvenYW83r/label.png'\n",
    "lbl = np.asarray(PIL.Image.open(label_png))\n",
    "print(lbl.dtype)\n",
    "np.unique(lbl)\n"
   ]
  },
  {
   "cell_type": "code",
   "execution_count": 3,
   "id": "194ba8f7-3fa3-4c66-b17a-c01082d004fd",
   "metadata": {},
   "outputs": [
    {
     "data": {
      "text/plain": [
       "(3744, 10904)"
      ]
     },
     "execution_count": 3,
     "metadata": {},
     "output_type": "execute_result"
    }
   ],
   "source": [
    "lbl.shape"
   ]
  },
  {
   "cell_type": "code",
   "execution_count": null,
   "id": "2659e690-26d5-41f2-84e4-dfd0ef38945c",
   "metadata": {},
   "outputs": [],
   "source": []
  }
 ],
 "metadata": {
  "kernelspec": {
   "display_name": "Python 3 (ipykernel)",
   "language": "python",
   "name": "python3"
  },
  "language_info": {
   "codemirror_mode": {
    "name": "ipython",
    "version": 3
   },
   "file_extension": ".py",
   "mimetype": "text/x-python",
   "name": "python",
   "nbconvert_exporter": "python",
   "pygments_lexer": "ipython3",
   "version": "3.9.6"
  }
 },
 "nbformat": 4,
 "nbformat_minor": 5
}
